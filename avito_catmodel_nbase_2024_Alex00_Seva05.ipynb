{
 "cells": [
  {
   "cell_type": "code",
   "execution_count": 32,
   "id": "2877f667-963d-4606-9119-54d6e89a4582",
   "metadata": {},
   "outputs": [],
   "source": [
    "import time\n",
    "import pandas as pd\n",
    "from sklearn.model_selection import train_test_split\n",
    "from catboost import CatBoostClassifier, Pool\n",
    "from sklearn.metrics import roc_auc_score\n",
    "import os"
   ]
  },
  {
   "cell_type": "code",
   "execution_count": 2,
   "id": "9d68b6d7-56eb-4074-a3ef-ba3bfc56cf6c",
   "metadata": {},
   "outputs": [],
   "source": [
    "path = r'D:\\Книги\\Программирование\\ML_contests_хакатоны\\Avito_tech_huck_2024'"
   ]
  },
  {
   "cell_type": "code",
   "execution_count": 3,
   "id": "7df94e0f-f02a-401b-94bd-901242009586",
   "metadata": {},
   "outputs": [],
   "source": [
    "# Шаг 1: Читаем только нужные столбцы для экономии памяти\n",
    "columns_to_read = ['user_id', 'adv_campaign_id',\n",
    "    'platform_id', 'banner_code', 'is_main', 'user_id_mean', 'adv_campaign_id_mean', \n",
    "    'adv_creative_id_mean', 'goal_cost', 'goal_budget', \n",
    "    'location_id', 'logcat_id', 'camp_len', 'effect_goal', 'target'\n",
    "]\n",
    "\n",
    "train = pd.read_parquet(path + r'\\train_features.parquet', columns=columns_to_read)"
   ]
  },
  {
   "cell_type": "code",
   "execution_count": 4,
   "id": "0ebfe96f-0662-4bd7-990a-f804b8f5d746",
   "metadata": {},
   "outputs": [
    {
     "name": "stdout",
     "output_type": "stream",
     "text": [
      "<class 'pandas.core.frame.DataFrame'>\n",
      "RangeIndex: 114741035 entries, 0 to 114741034\n",
      "Data columns (total 15 columns):\n",
      " #   Column                Dtype  \n",
      "---  ------                -----  \n",
      " 0   user_id               int32  \n",
      " 1   adv_campaign_id       int16  \n",
      " 2   platform_id           int8   \n",
      " 3   banner_code           int8   \n",
      " 4   is_main               int8   \n",
      " 5   user_id_mean          float32\n",
      " 6   adv_campaign_id_mean  float32\n",
      " 7   adv_creative_id_mean  float32\n",
      " 8   goal_cost             float32\n",
      " 9   goal_budget           int32  \n",
      " 10  location_id           int16  \n",
      " 11  logcat_id             int16  \n",
      " 12  camp_len              int16  \n",
      " 13  effect_goal           int32  \n",
      " 14  target                int8   \n",
      "dtypes: float32(4), int16(4), int32(3), int8(4)\n",
      "memory usage: 4.3 GB\n"
     ]
    }
   ],
   "source": [
    "train.info()"
   ]
  },
  {
   "cell_type": "code",
   "execution_count": 5,
   "id": "f4b6c64c-ccbd-4e7a-8089-5eedcbd63bf7",
   "metadata": {},
   "outputs": [],
   "source": [
    "# Добавим бейзлайновую фичу\n",
    "# user_ads_clicks = train.groupby([\"user_id\", \"adv_campaign_id\"], as_index=False)[\"target\"].max()\n",
    "# user_ads_clicks.head()\n",
    "# user_ads_clicks = user_ads_clicks.rename(columns={'target': 'base'})\n",
    "# user_ads_clicks['base'] = user_ads_clicks['base'].astype('int8')\n",
    "# user_ads_clicks.to_csv(path + r'\\user_ads_clicks.csv', index=False)"
   ]
  },
  {
   "cell_type": "code",
   "execution_count": 6,
   "id": "91434ff8-3532-4474-ab8c-c8cceac4425f",
   "metadata": {},
   "outputs": [],
   "source": [
    "train = train.drop(columns={'user_id', 'adv_campaign_id'})"
   ]
  },
  {
   "cell_type": "code",
   "execution_count": 7,
   "id": "ce2045f0-7083-4f75-87e2-589d5d655adf",
   "metadata": {},
   "outputs": [],
   "source": [
    "train = train.sample(frac=0.15, random_state=42)"
   ]
  },
  {
   "cell_type": "code",
   "execution_count": 8,
   "id": "a2cf7004-668b-4915-9261-127d53f58ec9",
   "metadata": {},
   "outputs": [
    {
     "name": "stdout",
     "output_type": "stream",
     "text": [
      "<class 'pandas.core.frame.DataFrame'>\n",
      "Index: 17211155 entries, 58287114 to 23233480\n",
      "Data columns (total 13 columns):\n",
      " #   Column                Dtype  \n",
      "---  ------                -----  \n",
      " 0   platform_id           int8   \n",
      " 1   banner_code           int8   \n",
      " 2   is_main               int8   \n",
      " 3   user_id_mean          float32\n",
      " 4   adv_campaign_id_mean  float32\n",
      " 5   adv_creative_id_mean  float32\n",
      " 6   goal_cost             float32\n",
      " 7   goal_budget           int32  \n",
      " 8   location_id           int16  \n",
      " 9   logcat_id             int16  \n",
      " 10  camp_len              int16  \n",
      " 11  effect_goal           int32  \n",
      " 12  target                int8   \n",
      "dtypes: float32(4), int16(3), int32(2), int8(4)\n",
      "memory usage: 689.4 MB\n"
     ]
    }
   ],
   "source": [
    "train.info()"
   ]
  },
  {
   "cell_type": "code",
   "execution_count": 9,
   "id": "f95ed093-1396-4ce4-b946-a340df49471c",
   "metadata": {},
   "outputs": [],
   "source": [
    "# Шаг 2: Разделяем данные\n",
    "y = train[\"target\"]\n",
    "X = train.drop(columns={\"target\"})\n",
    "X_train, X_test, y_train, y_test = train_test_split(X, y, test_size=0.2, random_state=42)"
   ]
  },
  {
   "cell_type": "code",
   "execution_count": 10,
   "id": "ba958921-88be-47b2-905f-37ab02addb7a",
   "metadata": {},
   "outputs": [],
   "source": [
    "del train"
   ]
  },
  {
   "cell_type": "code",
   "execution_count": 11,
   "id": "6ebd37b5-7670-4b01-a565-825d15eb33c4",
   "metadata": {},
   "outputs": [],
   "source": [
    "# Категориальные признаки\n",
    "cat_features = ['platform_id', 'banner_code', 'is_main', 'location_id', 'logcat_id']"
   ]
  },
  {
   "cell_type": "code",
   "execution_count": 12,
   "id": "59541c3b-7897-4864-84a7-ebe4087e4347",
   "metadata": {},
   "outputs": [],
   "source": [
    "# Шаг 3: Создаём Pool для CatBoost\n",
    "train_pool = Pool(data=X_train, label=y_train, cat_features=cat_features)\n",
    "test_pool = Pool(data=X_test, label=y_test, cat_features=cat_features)"
   ]
  },
  {
   "cell_type": "code",
   "execution_count": 13,
   "id": "aaf34492-2085-4eff-9036-0144e1054edc",
   "metadata": {},
   "outputs": [
    {
     "data": {
      "text/plain": [
       "\"\\n# Сохраняем на диске\\nX_train['target'] = y_train\\nX_train.to_csv(path + r'\\\\X_train.csv', index=False)\\nX_test['target'] = y_test\\nX_test.to_csv(path + r'\\\\X_test.csv', index=False)\\n\\ndel train, y, X, X_train, y_train, X_test, y_test\\n\\n# Шаг 3: Создаём Pool для CatBoost с диска\\ntrain_pool = Pool(data=path + r'\\\\X_train.csv', column_description=path + r'\\\\column_description.txt')\\ntest_pool = Pool(data=path + r'\\\\X_test.csv', column_description=path + r'\\\\column_description.txt')\\n\""
      ]
     },
     "execution_count": 13,
     "metadata": {},
     "output_type": "execute_result"
    }
   ],
   "source": [
    "\"\"\"\n",
    "# Сохраняем на диске\n",
    "X_train['target'] = y_train\n",
    "X_train.to_csv(path + r'\\X_train.csv', index=False)\n",
    "X_test['target'] = y_test\n",
    "X_test.to_csv(path + r'\\X_test.csv', index=False)\n",
    "\n",
    "del train, y, X, X_train, y_train, X_test, y_test\n",
    "\n",
    "# Шаг 3: Создаём Pool для CatBoost с диска\n",
    "train_pool = Pool(data=path + r'\\X_train.csv', column_description=path + r'\\column_description.txt')\n",
    "test_pool = Pool(data=path + r'\\X_test.csv', column_description=path + r'\\column_description.txt')\n",
    "\"\"\""
   ]
  },
  {
   "cell_type": "code",
   "execution_count": 14,
   "id": "f6b686a4-0dc0-48ea-9f24-248c9fd70bff",
   "metadata": {
    "scrolled": true
   },
   "outputs": [
    {
     "name": "stdout",
     "output_type": "stream",
     "text": [
      "0:\ttest: 0.5731356\tbest: 0.5731356 (0)\ttotal: 8.1s\tremaining: 4h 30m\n",
      "100:\ttest: 0.9167160\tbest: 0.9167160 (100)\ttotal: 12m 17s\tremaining: 3h 51m 8s\n",
      "200:\ttest: 0.9214919\tbest: 0.9214919 (200)\ttotal: 25m 21s\tremaining: 3h 47m 1s\n",
      "300:\ttest: 0.9217770\tbest: 0.9217788 (298)\ttotal: 37m 35s\tremaining: 3h 32m 10s\n",
      "400:\ttest: 0.9218887\tbest: 0.9218887 (400)\ttotal: 49m 30s\tremaining: 3h 17m 24s\n",
      "500:\ttest: 0.9219669\tbest: 0.9219669 (500)\ttotal: 1h 2m 11s\tremaining: 3h 6m 4s\n",
      "600:\ttest: 0.9220371\tbest: 0.9220371 (600)\ttotal: 1h 15m 16s\tremaining: 2h 55m 14s\n",
      "700:\ttest: 0.9220769\tbest: 0.9220773 (697)\ttotal: 1h 28m 51s\tremaining: 2h 44m 38s\n",
      "800:\ttest: 0.9220991\tbest: 0.9220993 (797)\ttotal: 1h 40m 59s\tremaining: 2h 31m 10s\n",
      "900:\ttest: 0.9221103\tbest: 0.9221104 (899)\ttotal: 1h 53m 34s\tremaining: 2h 18m 31s\n",
      "1000:\ttest: 0.9221233\tbest: 0.9221234 (997)\ttotal: 2h 6m 50s\tremaining: 2h 6m 35s\n",
      "1100:\ttest: 0.9221327\tbest: 0.9221327 (1100)\ttotal: 2h 19m 7s\tremaining: 1h 53m 35s\n",
      "1200:\ttest: 0.9221439\tbest: 0.9221439 (1200)\ttotal: 2h 31m 38s\tremaining: 1h 40m 53s\n",
      "1300:\ttest: 0.9221524\tbest: 0.9221524 (1299)\ttotal: 2h 44m 12s\tremaining: 1h 28m 13s\n",
      "1400:\ttest: 0.9221597\tbest: 0.9221599 (1396)\ttotal: 2h 58m 4s\tremaining: 1h 16m 8s\n",
      "1500:\ttest: 0.9221650\tbest: 0.9221650 (1480)\ttotal: 3h 10m 57s\tremaining: 1h 3m 28s\n",
      "1600:\ttest: 0.9221706\tbest: 0.9221707 (1599)\ttotal: 3h 23m 53s\tremaining: 50m 48s\n",
      "1700:\ttest: 0.9221768\tbest: 0.9221769 (1699)\ttotal: 3h 36m 11s\tremaining: 38m\n",
      "1800:\ttest: 0.9221780\tbest: 0.9221783 (1797)\ttotal: 3h 49m 15s\tremaining: 25m 19s\n",
      "1900:\ttest: 0.9221851\tbest: 0.9221851 (1900)\ttotal: 4h 4m 23s\tremaining: 12m 43s\n",
      "1999:\ttest: 0.9221890\tbest: 0.9221892 (1998)\ttotal: 4h 19m 48s\tremaining: 0us\n",
      "\n",
      "bestTest = 0.9221892311\n",
      "bestIteration = 1998\n",
      "\n",
      "Shrink model to first 1999 iterations.\n"
     ]
    },
    {
     "data": {
      "text/plain": [
       "<catboost.core.CatBoostClassifier at 0x2201ca19f50>"
      ]
     },
     "execution_count": 14,
     "metadata": {},
     "output_type": "execute_result"
    }
   ],
   "source": [
    "# Шаг 4: Создаём и обучаем модель\n",
    "model = CatBoostClassifier(\n",
    "    thread_count=-1,\n",
    "    iterations=2000,\n",
    "    depth=4,\n",
    "    learning_rate=0.03,\n",
    "    l2_leaf_reg=5,\n",
    "    subsample=0.8,\n",
    "    loss_function='Logloss',\n",
    "    eval_metric='AUC',\n",
    "    task_type=\"CPU\",\n",
    "    verbose=100,\n",
    "    early_stopping_rounds=50\n",
    ")\n",
    "\n",
    "model.fit(\n",
    "    train_pool,\n",
    "    eval_set=test_pool,\n",
    "    use_best_model=True\n",
    ")"
   ]
  },
  {
   "cell_type": "code",
   "execution_count": 33,
   "id": "7e0cc849-f409-4b2b-9fc0-8062dbb8dcde",
   "metadata": {},
   "outputs": [],
   "source": [
    "# Сохранение модели в файл\n",
    "model.save_model(os.path.join(path, \"catboost_model.cbm\"))"
   ]
  },
  {
   "cell_type": "code",
   "execution_count": 15,
   "id": "df5fa84f-6fd9-49bb-bb05-c808e7d7db97",
   "metadata": {},
   "outputs": [
    {
     "name": "stdout",
     "output_type": "stream",
     "text": [
      "ROC-AUC: 0.9222\n"
     ]
    }
   ],
   "source": [
    "# Шаг 5: Оцениваем модель\n",
    "y_pred = model.predict_proba(test_pool)[:, 1]\n",
    "roc_auc = roc_auc_score(y_test, y_pred)\n",
    "print(f\"ROC-AUC: {roc_auc:.4f}\")"
   ]
  },
  {
   "cell_type": "code",
   "execution_count": 16,
   "id": "48b4d230-74eb-4661-9ab9-cfba259ffb0d",
   "metadata": {},
   "outputs": [
    {
     "name": "stdout",
     "output_type": "stream",
     "text": [
      "<class 'pandas.core.frame.DataFrame'>\n",
      "RangeIndex: 1983287 entries, 0 to 1983286\n",
      "Data columns (total 14 columns):\n",
      " #   Column                Dtype  \n",
      "---  ------                -----  \n",
      " 0   user_id               int64  \n",
      " 1   adv_campaign_id       int64  \n",
      " 2   platform_id           int64  \n",
      " 3   banner_code           int64  \n",
      " 4   is_main               int64  \n",
      " 5   user_id_mean          float64\n",
      " 6   adv_campaign_id_mean  float64\n",
      " 7   adv_creative_id_mean  float64\n",
      " 8   goal_cost             float64\n",
      " 9   goal_budget           int64  \n",
      " 10  location_id           int64  \n",
      " 11  logcat_id             int64  \n",
      " 12  camp_len              int64  \n",
      " 13  effect_goal           int64  \n",
      "dtypes: float64(4), int64(10)\n",
      "memory usage: 211.8 MB\n"
     ]
    }
   ],
   "source": [
    "# Шаг 1: Подготовка тестовых данных\n",
    "columns_test_to_read = ['user_id', 'adv_campaign_id',\n",
    "    'platform_id', 'banner_code', 'is_main', 'location_id', 'logcat_id', \n",
    "    'user_id_mean', 'adv_campaign_id_mean', 'adv_creative_id_mean', \n",
    "    'goal_cost', 'goal_budget', 'camp_len', 'effect_goal'\n",
    "]\n",
    "\n",
    "test = pd.read_csv(path + r'\\test_features.csv', usecols=columns_test_to_read)\n",
    "test.info()"
   ]
  },
  {
   "cell_type": "code",
   "execution_count": 17,
   "id": "db3b0a0b-db93-48ba-8409-1e2b89f85ad6",
   "metadata": {},
   "outputs": [],
   "source": [
    "# Шаг 2: Создание Pool для тестовых данных\n",
    "test_pool = Pool(data=test, cat_features=cat_features)"
   ]
  },
  {
   "cell_type": "code",
   "execution_count": 18,
   "id": "d45af743-dc62-470b-b325-62b1d0a4654c",
   "metadata": {},
   "outputs": [],
   "source": [
    "# Шаг 3: Применение модели\n",
    "# Предсказание вероятностей\n",
    "test['predicted_prob'] = model.predict_proba(test_pool)[:, 1]"
   ]
  },
  {
   "cell_type": "code",
   "execution_count": 19,
   "id": "d3c3e415-305a-441f-bfd8-4885f92bdd20",
   "metadata": {},
   "outputs": [
    {
     "data": {
      "text/html": [
       "<div>\n",
       "<style scoped>\n",
       "    .dataframe tbody tr th:only-of-type {\n",
       "        vertical-align: middle;\n",
       "    }\n",
       "\n",
       "    .dataframe tbody tr th {\n",
       "        vertical-align: top;\n",
       "    }\n",
       "\n",
       "    .dataframe thead th {\n",
       "        text-align: right;\n",
       "    }\n",
       "</style>\n",
       "<table border=\"1\" class=\"dataframe\">\n",
       "  <thead>\n",
       "    <tr style=\"text-align: right;\">\n",
       "      <th></th>\n",
       "      <th>user_id</th>\n",
       "      <th>adv_campaign_id</th>\n",
       "      <th>platform_id</th>\n",
       "      <th>banner_code</th>\n",
       "      <th>is_main</th>\n",
       "      <th>user_id_mean</th>\n",
       "      <th>adv_campaign_id_mean</th>\n",
       "      <th>adv_creative_id_mean</th>\n",
       "      <th>goal_cost</th>\n",
       "      <th>goal_budget</th>\n",
       "      <th>location_id</th>\n",
       "      <th>logcat_id</th>\n",
       "      <th>camp_len</th>\n",
       "      <th>effect_goal</th>\n",
       "      <th>predicted_prob</th>\n",
       "    </tr>\n",
       "  </thead>\n",
       "  <tbody>\n",
       "    <tr>\n",
       "      <th>0</th>\n",
       "      <td>2714742</td>\n",
       "      <td>3026</td>\n",
       "      <td>2</td>\n",
       "      <td>8</td>\n",
       "      <td>1</td>\n",
       "      <td>0.0</td>\n",
       "      <td>0.008517</td>\n",
       "      <td>0.008517</td>\n",
       "      <td>4.754986</td>\n",
       "      <td>5080</td>\n",
       "      <td>1</td>\n",
       "      <td>65</td>\n",
       "      <td>6</td>\n",
       "      <td>1068</td>\n",
       "      <td>1.155799e-06</td>\n",
       "    </tr>\n",
       "    <tr>\n",
       "      <th>1</th>\n",
       "      <td>2714742</td>\n",
       "      <td>2994</td>\n",
       "      <td>2</td>\n",
       "      <td>8</td>\n",
       "      <td>1</td>\n",
       "      <td>0.0</td>\n",
       "      <td>0.005669</td>\n",
       "      <td>0.005669</td>\n",
       "      <td>7.819801</td>\n",
       "      <td>55768</td>\n",
       "      <td>30</td>\n",
       "      <td>65</td>\n",
       "      <td>14</td>\n",
       "      <td>7131</td>\n",
       "      <td>8.553904e-07</td>\n",
       "    </tr>\n",
       "    <tr>\n",
       "      <th>2</th>\n",
       "      <td>2714742</td>\n",
       "      <td>97</td>\n",
       "      <td>2</td>\n",
       "      <td>8</td>\n",
       "      <td>1</td>\n",
       "      <td>0.0</td>\n",
       "      <td>0.007804</td>\n",
       "      <td>0.007804</td>\n",
       "      <td>5.138341</td>\n",
       "      <td>10024</td>\n",
       "      <td>1</td>\n",
       "      <td>65</td>\n",
       "      <td>6</td>\n",
       "      <td>1950</td>\n",
       "      <td>1.138719e-06</td>\n",
       "    </tr>\n",
       "    <tr>\n",
       "      <th>3</th>\n",
       "      <td>2714742</td>\n",
       "      <td>3539</td>\n",
       "      <td>2</td>\n",
       "      <td>8</td>\n",
       "      <td>1</td>\n",
       "      <td>0.0</td>\n",
       "      <td>0.007723</td>\n",
       "      <td>0.007723</td>\n",
       "      <td>5.058388</td>\n",
       "      <td>9925</td>\n",
       "      <td>1</td>\n",
       "      <td>65</td>\n",
       "      <td>6</td>\n",
       "      <td>1962</td>\n",
       "      <td>1.130556e-06</td>\n",
       "    </tr>\n",
       "    <tr>\n",
       "      <th>4</th>\n",
       "      <td>2714742</td>\n",
       "      <td>2756</td>\n",
       "      <td>2</td>\n",
       "      <td>8</td>\n",
       "      <td>1</td>\n",
       "      <td>0.0</td>\n",
       "      <td>0.010646</td>\n",
       "      <td>0.010646</td>\n",
       "      <td>4.827791</td>\n",
       "      <td>19293</td>\n",
       "      <td>30</td>\n",
       "      <td>65</td>\n",
       "      <td>9</td>\n",
       "      <td>3996</td>\n",
       "      <td>1.414431e-06</td>\n",
       "    </tr>\n",
       "    <tr>\n",
       "      <th>...</th>\n",
       "      <td>...</td>\n",
       "      <td>...</td>\n",
       "      <td>...</td>\n",
       "      <td>...</td>\n",
       "      <td>...</td>\n",
       "      <td>...</td>\n",
       "      <td>...</td>\n",
       "      <td>...</td>\n",
       "      <td>...</td>\n",
       "      <td>...</td>\n",
       "      <td>...</td>\n",
       "      <td>...</td>\n",
       "      <td>...</td>\n",
       "      <td>...</td>\n",
       "      <td>...</td>\n",
       "    </tr>\n",
       "    <tr>\n",
       "      <th>1983282</th>\n",
       "      <td>2398626</td>\n",
       "      <td>1099</td>\n",
       "      <td>2</td>\n",
       "      <td>8</td>\n",
       "      <td>1</td>\n",
       "      <td>0.0</td>\n",
       "      <td>0.006284</td>\n",
       "      <td>0.006284</td>\n",
       "      <td>1.912499</td>\n",
       "      <td>3223</td>\n",
       "      <td>42</td>\n",
       "      <td>26</td>\n",
       "      <td>6</td>\n",
       "      <td>1685</td>\n",
       "      <td>9.371172e-07</td>\n",
       "    </tr>\n",
       "    <tr>\n",
       "      <th>1983283</th>\n",
       "      <td>2398626</td>\n",
       "      <td>488</td>\n",
       "      <td>2</td>\n",
       "      <td>8</td>\n",
       "      <td>1</td>\n",
       "      <td>0.0</td>\n",
       "      <td>0.008186</td>\n",
       "      <td>0.008186</td>\n",
       "      <td>6.929049</td>\n",
       "      <td>4491</td>\n",
       "      <td>42</td>\n",
       "      <td>35</td>\n",
       "      <td>6</td>\n",
       "      <td>648</td>\n",
       "      <td>1.062324e-06</td>\n",
       "    </tr>\n",
       "    <tr>\n",
       "      <th>1983284</th>\n",
       "      <td>2398626</td>\n",
       "      <td>49</td>\n",
       "      <td>2</td>\n",
       "      <td>8</td>\n",
       "      <td>1</td>\n",
       "      <td>0.0</td>\n",
       "      <td>0.006106</td>\n",
       "      <td>0.006106</td>\n",
       "      <td>2.658746</td>\n",
       "      <td>3163</td>\n",
       "      <td>42</td>\n",
       "      <td>30</td>\n",
       "      <td>7</td>\n",
       "      <td>1190</td>\n",
       "      <td>8.054419e-07</td>\n",
       "    </tr>\n",
       "    <tr>\n",
       "      <th>1983285</th>\n",
       "      <td>2398626</td>\n",
       "      <td>1053</td>\n",
       "      <td>2</td>\n",
       "      <td>5</td>\n",
       "      <td>0</td>\n",
       "      <td>0.0</td>\n",
       "      <td>0.005639</td>\n",
       "      <td>0.005639</td>\n",
       "      <td>2.296300</td>\n",
       "      <td>6426</td>\n",
       "      <td>42</td>\n",
       "      <td>26</td>\n",
       "      <td>11</td>\n",
       "      <td>2798</td>\n",
       "      <td>1.399971e-06</td>\n",
       "    </tr>\n",
       "    <tr>\n",
       "      <th>1983286</th>\n",
       "      <td>2398626</td>\n",
       "      <td>1870</td>\n",
       "      <td>2</td>\n",
       "      <td>8</td>\n",
       "      <td>1</td>\n",
       "      <td>0.0</td>\n",
       "      <td>0.005395</td>\n",
       "      <td>0.005395</td>\n",
       "      <td>2.392752</td>\n",
       "      <td>2864</td>\n",
       "      <td>42</td>\n",
       "      <td>63</td>\n",
       "      <td>6</td>\n",
       "      <td>1197</td>\n",
       "      <td>7.370034e-07</td>\n",
       "    </tr>\n",
       "  </tbody>\n",
       "</table>\n",
       "<p>1983287 rows × 15 columns</p>\n",
       "</div>"
      ],
      "text/plain": [
       "         user_id  adv_campaign_id  platform_id  banner_code  is_main  \\\n",
       "0        2714742             3026            2            8        1   \n",
       "1        2714742             2994            2            8        1   \n",
       "2        2714742               97            2            8        1   \n",
       "3        2714742             3539            2            8        1   \n",
       "4        2714742             2756            2            8        1   \n",
       "...          ...              ...          ...          ...      ...   \n",
       "1983282  2398626             1099            2            8        1   \n",
       "1983283  2398626              488            2            8        1   \n",
       "1983284  2398626               49            2            8        1   \n",
       "1983285  2398626             1053            2            5        0   \n",
       "1983286  2398626             1870            2            8        1   \n",
       "\n",
       "         user_id_mean  adv_campaign_id_mean  adv_creative_id_mean  goal_cost  \\\n",
       "0                 0.0              0.008517              0.008517   4.754986   \n",
       "1                 0.0              0.005669              0.005669   7.819801   \n",
       "2                 0.0              0.007804              0.007804   5.138341   \n",
       "3                 0.0              0.007723              0.007723   5.058388   \n",
       "4                 0.0              0.010646              0.010646   4.827791   \n",
       "...               ...                   ...                   ...        ...   \n",
       "1983282           0.0              0.006284              0.006284   1.912499   \n",
       "1983283           0.0              0.008186              0.008186   6.929049   \n",
       "1983284           0.0              0.006106              0.006106   2.658746   \n",
       "1983285           0.0              0.005639              0.005639   2.296300   \n",
       "1983286           0.0              0.005395              0.005395   2.392752   \n",
       "\n",
       "         goal_budget  location_id  logcat_id  camp_len  effect_goal  \\\n",
       "0               5080            1         65         6         1068   \n",
       "1              55768           30         65        14         7131   \n",
       "2              10024            1         65         6         1950   \n",
       "3               9925            1         65         6         1962   \n",
       "4              19293           30         65         9         3996   \n",
       "...              ...          ...        ...       ...          ...   \n",
       "1983282         3223           42         26         6         1685   \n",
       "1983283         4491           42         35         6          648   \n",
       "1983284         3163           42         30         7         1190   \n",
       "1983285         6426           42         26        11         2798   \n",
       "1983286         2864           42         63         6         1197   \n",
       "\n",
       "         predicted_prob  \n",
       "0          1.155799e-06  \n",
       "1          8.553904e-07  \n",
       "2          1.138719e-06  \n",
       "3          1.130556e-06  \n",
       "4          1.414431e-06  \n",
       "...                 ...  \n",
       "1983282    9.371172e-07  \n",
       "1983283    1.062324e-06  \n",
       "1983284    8.054419e-07  \n",
       "1983285    1.399971e-06  \n",
       "1983286    7.370034e-07  \n",
       "\n",
       "[1983287 rows x 15 columns]"
      ]
     },
     "execution_count": 19,
     "metadata": {},
     "output_type": "execute_result"
    }
   ],
   "source": [
    "test"
   ]
  },
  {
   "cell_type": "code",
   "execution_count": 41,
   "id": "a632eda6-8762-49da-a64f-853344724bed",
   "metadata": {},
   "outputs": [
    {
     "data": {
      "text/html": [
       "<div>\n",
       "<style scoped>\n",
       "    .dataframe tbody tr th:only-of-type {\n",
       "        vertical-align: middle;\n",
       "    }\n",
       "\n",
       "    .dataframe tbody tr th {\n",
       "        vertical-align: top;\n",
       "    }\n",
       "\n",
       "    .dataframe thead th {\n",
       "        text-align: right;\n",
       "    }\n",
       "</style>\n",
       "<table border=\"1\" class=\"dataframe\">\n",
       "  <thead>\n",
       "    <tr style=\"text-align: right;\">\n",
       "      <th></th>\n",
       "      <th>user_id</th>\n",
       "      <th>adv_campaign_id</th>\n",
       "      <th>predict</th>\n",
       "    </tr>\n",
       "  </thead>\n",
       "  <tbody>\n",
       "    <tr>\n",
       "      <th>0</th>\n",
       "      <td>2714742</td>\n",
       "      <td>3026</td>\n",
       "      <td>1.155799e-06</td>\n",
       "    </tr>\n",
       "    <tr>\n",
       "      <th>1</th>\n",
       "      <td>2714742</td>\n",
       "      <td>2994</td>\n",
       "      <td>8.553904e-07</td>\n",
       "    </tr>\n",
       "    <tr>\n",
       "      <th>2</th>\n",
       "      <td>2714742</td>\n",
       "      <td>97</td>\n",
       "      <td>1.138719e-06</td>\n",
       "    </tr>\n",
       "    <tr>\n",
       "      <th>3</th>\n",
       "      <td>2714742</td>\n",
       "      <td>3539</td>\n",
       "      <td>1.130556e-06</td>\n",
       "    </tr>\n",
       "    <tr>\n",
       "      <th>4</th>\n",
       "      <td>2714742</td>\n",
       "      <td>2756</td>\n",
       "      <td>1.414431e-06</td>\n",
       "    </tr>\n",
       "  </tbody>\n",
       "</table>\n",
       "</div>"
      ],
      "text/plain": [
       "   user_id  adv_campaign_id       predict\n",
       "0  2714742             3026  1.155799e-06\n",
       "1  2714742             2994  8.553904e-07\n",
       "2  2714742               97  1.138719e-06\n",
       "3  2714742             3539  1.130556e-06\n",
       "4  2714742             2756  1.414431e-06"
      ]
     },
     "execution_count": 41,
     "metadata": {},
     "output_type": "execute_result"
    }
   ],
   "source": [
    "# Шаг 4: Перезапись и сохранение результатов\n",
    "sam = pd.read_csv(path + r'\\sample_submission.csv')\n",
    "sam['predict'] = test['predicted_prob']\n",
    "sam.to_csv(path + r'\\sample_submission1.csv', index=False)\n",
    "sam.head()"
   ]
  },
  {
   "cell_type": "code",
   "execution_count": 37,
   "id": "c2122a06-a6cb-4e06-99f5-3b2d8b9f3f6b",
   "metadata": {},
   "outputs": [],
   "source": [
    "# Добавим бейзлайновую фичу\n",
    "user_ads_clicks = pd.read_csv(path + r'\\user_ads_clicks.csv')"
   ]
  },
  {
   "cell_type": "code",
   "execution_count": 42,
   "id": "b3733455-4250-4c8c-8211-33eaf7a04218",
   "metadata": {},
   "outputs": [],
   "source": [
    "sam = sam.merge(user_ads_clicks, on=[\"user_id\", \"adv_campaign_id\"], how=\"left\")"
   ]
  },
  {
   "cell_type": "code",
   "execution_count": 43,
   "id": "1f388ed9-0129-4644-9e85-9c366a8ce3db",
   "metadata": {},
   "outputs": [],
   "source": [
    "sam[\"base\"] = sam[\"base\"].fillna(0.0)"
   ]
  },
  {
   "cell_type": "code",
   "execution_count": 44,
   "id": "19f198cc-5a8f-485e-9bda-24de4c6d6a47",
   "metadata": {},
   "outputs": [
    {
     "data": {
      "text/html": [
       "<div>\n",
       "<style scoped>\n",
       "    .dataframe tbody tr th:only-of-type {\n",
       "        vertical-align: middle;\n",
       "    }\n",
       "\n",
       "    .dataframe tbody tr th {\n",
       "        vertical-align: top;\n",
       "    }\n",
       "\n",
       "    .dataframe thead th {\n",
       "        text-align: right;\n",
       "    }\n",
       "</style>\n",
       "<table border=\"1\" class=\"dataframe\">\n",
       "  <thead>\n",
       "    <tr style=\"text-align: right;\">\n",
       "      <th></th>\n",
       "      <th>user_id</th>\n",
       "      <th>adv_campaign_id</th>\n",
       "      <th>predict</th>\n",
       "      <th>base</th>\n",
       "    </tr>\n",
       "  </thead>\n",
       "  <tbody>\n",
       "    <tr>\n",
       "      <th>0</th>\n",
       "      <td>2714742</td>\n",
       "      <td>3026</td>\n",
       "      <td>1.155799e-06</td>\n",
       "      <td>0.0</td>\n",
       "    </tr>\n",
       "    <tr>\n",
       "      <th>1</th>\n",
       "      <td>2714742</td>\n",
       "      <td>2994</td>\n",
       "      <td>8.553904e-07</td>\n",
       "      <td>0.0</td>\n",
       "    </tr>\n",
       "  </tbody>\n",
       "</table>\n",
       "</div>"
      ],
      "text/plain": [
       "   user_id  adv_campaign_id       predict  base\n",
       "0  2714742             3026  1.155799e-06   0.0\n",
       "1  2714742             2994  8.553904e-07   0.0"
      ]
     },
     "execution_count": 44,
     "metadata": {},
     "output_type": "execute_result"
    }
   ],
   "source": [
    "sam.head(2)"
   ]
  },
  {
   "cell_type": "code",
   "execution_count": 45,
   "id": "82342143-718f-44d4-9cc5-98f0fb3a4727",
   "metadata": {},
   "outputs": [],
   "source": [
    "sam['predict'] = (sam['predict'] + sam['base']) / 2"
   ]
  },
  {
   "cell_type": "code",
   "execution_count": 46,
   "id": "0e6f569c-55e5-4a54-93c3-882799bf3483",
   "metadata": {},
   "outputs": [],
   "source": [
    "sam = sam.drop(columns={'base'})"
   ]
  },
  {
   "cell_type": "code",
   "execution_count": 47,
   "id": "f7d574a3-ed6c-42ef-b8be-40d07d81f462",
   "metadata": {},
   "outputs": [
    {
     "data": {
      "text/html": [
       "<div>\n",
       "<style scoped>\n",
       "    .dataframe tbody tr th:only-of-type {\n",
       "        vertical-align: middle;\n",
       "    }\n",
       "\n",
       "    .dataframe tbody tr th {\n",
       "        vertical-align: top;\n",
       "    }\n",
       "\n",
       "    .dataframe thead th {\n",
       "        text-align: right;\n",
       "    }\n",
       "</style>\n",
       "<table border=\"1\" class=\"dataframe\">\n",
       "  <thead>\n",
       "    <tr style=\"text-align: right;\">\n",
       "      <th></th>\n",
       "      <th>user_id</th>\n",
       "      <th>adv_campaign_id</th>\n",
       "      <th>predict</th>\n",
       "    </tr>\n",
       "  </thead>\n",
       "  <tbody>\n",
       "    <tr>\n",
       "      <th>0</th>\n",
       "      <td>2714742</td>\n",
       "      <td>3026</td>\n",
       "      <td>5.778996e-07</td>\n",
       "    </tr>\n",
       "    <tr>\n",
       "      <th>1</th>\n",
       "      <td>2714742</td>\n",
       "      <td>2994</td>\n",
       "      <td>4.276952e-07</td>\n",
       "    </tr>\n",
       "  </tbody>\n",
       "</table>\n",
       "</div>"
      ],
      "text/plain": [
       "   user_id  adv_campaign_id       predict\n",
       "0  2714742             3026  5.778996e-07\n",
       "1  2714742             2994  4.276952e-07"
      ]
     },
     "execution_count": 47,
     "metadata": {},
     "output_type": "execute_result"
    }
   ],
   "source": [
    "sam.head(2)"
   ]
  },
  {
   "cell_type": "code",
   "execution_count": 48,
   "id": "e2bfbc6c-005c-4400-807d-e1e431f936d8",
   "metadata": {},
   "outputs": [],
   "source": [
    "sam.to_csv(path + r'\\sample_submission.csv', index=False)"
   ]
  },
  {
   "cell_type": "code",
   "execution_count": 75,
   "id": "2f6996b3-9783-4278-b9d9-caa9d55842c6",
   "metadata": {},
   "outputs": [],
   "source": [
    "# Дообучение"
   ]
  },
  {
   "cell_type": "code",
   "execution_count": 76,
   "id": "25ff6800-3908-4353-8fc8-0b2b52fde443",
   "metadata": {},
   "outputs": [],
   "source": [
    "# Читаем и выкидываем строки, на которых обучались, режем и берём 0.2 части датасета для дальнейшего обучения\n",
    "# Шаг 1: Читаем только нужные столбцы для экономии памяти\n",
    "columns_to_read = [\n",
    "    'platform_id', 'banner_code', 'is_main', 'user_id_mean', 'adv_campaign_id_mean', \n",
    "    'adv_creative_id_mean', 'goal_cost', 'goal_budget', \n",
    "    'location_id', 'logcat_id', 'camp_len', 'effect_goal', 'target'\n",
    "]\n",
    "\n",
    "train = pd.read_parquet(path + r'\\train_features.parquet', columns=columns_to_read)"
   ]
  },
  {
   "cell_type": "code",
   "execution_count": 77,
   "id": "7c8c09de-d2e6-4c92-9e06-c4b406333186",
   "metadata": {},
   "outputs": [],
   "source": [
    "frac = train.sample(frac=0.15, random_state=42)"
   ]
  },
  {
   "cell_type": "code",
   "execution_count": 78,
   "id": "24550546-de40-4a31-9332-00fbfab45539",
   "metadata": {},
   "outputs": [
    {
     "data": {
      "text/plain": [
       "(97529880, 13)"
      ]
     },
     "execution_count": 78,
     "metadata": {},
     "output_type": "execute_result"
    }
   ],
   "source": [
    "train85 = train.drop(frac.index)\n",
    "del frac\n",
    "train85.shape"
   ]
  },
  {
   "cell_type": "code",
   "execution_count": 79,
   "id": "d2583b6f-b934-4f11-ad63-eae64a11582d",
   "metadata": {},
   "outputs": [],
   "source": [
    "del train"
   ]
  },
  {
   "cell_type": "code",
   "execution_count": 80,
   "id": "4fc34346-cf7a-42f0-80de-105a47a4dfa1",
   "metadata": {},
   "outputs": [
    {
     "data": {
      "text/plain": [
       "(14629482, 13)"
      ]
     },
     "execution_count": 80,
     "metadata": {},
     "output_type": "execute_result"
    }
   ],
   "source": [
    "n_rows = int(len(train85) * 0.15)\n",
    "train85_15 = train85.iloc[:n_rows]\n",
    "del train85\n",
    "train85_15.shape"
   ]
  },
  {
   "cell_type": "code",
   "execution_count": 81,
   "id": "c6f6ff0d-7395-4f2f-871a-ec5e2fb0ee87",
   "metadata": {},
   "outputs": [],
   "source": [
    "# Размер одной части (15% строк)\n",
    "# chunk_size = int(n_rows * 0.15)\n",
    "# Взять вторые 15% строк\n",
    "# train85_second_15 = train85.iloc[chunk_size:chunk_size*2]"
   ]
  },
  {
   "cell_type": "code",
   "execution_count": 83,
   "id": "704198a8-b342-4f36-8f2e-bccd67aacb5d",
   "metadata": {},
   "outputs": [
    {
     "name": "stdout",
     "output_type": "stream",
     "text": [
      "<class 'pandas.core.frame.DataFrame'>\n",
      "Index: 14629482 entries, 0 to 17209348\n",
      "Data columns (total 13 columns):\n",
      " #   Column                Dtype  \n",
      "---  ------                -----  \n",
      " 0   platform_id           int8   \n",
      " 1   banner_code           int8   \n",
      " 2   is_main               int8   \n",
      " 3   user_id_mean          float32\n",
      " 4   adv_campaign_id_mean  float32\n",
      " 5   adv_creative_id_mean  float32\n",
      " 6   goal_cost             float32\n",
      " 7   goal_budget           int32  \n",
      " 8   location_id           int16  \n",
      " 9   logcat_id             int16  \n",
      " 10  camp_len              int16  \n",
      " 11  effect_goal           int32  \n",
      " 12  target                int8   \n",
      "dtypes: float32(4), int16(3), int32(2), int8(4)\n",
      "memory usage: 586.0 MB\n"
     ]
    }
   ],
   "source": [
    "train85_15.info()"
   ]
  },
  {
   "cell_type": "code",
   "execution_count": 84,
   "id": "c3ae1f3a-1dd7-4c12-8b47-8afcf130acd4",
   "metadata": {},
   "outputs": [],
   "source": [
    "# Шаг 2: Разделяем данные\n",
    "y = train85_15[\"target\"]\n",
    "X = train85_15.drop(columns={\"target\"})\n",
    "X_train, X_test, y_train, y_test = train_test_split(X, y, test_size=0.2, random_state=42)\n",
    "\n",
    "del train85_15\n",
    "\n",
    "cat_features = ['platform_id', 'banner_code', 'is_main', 'location_id', 'logcat_id']\n",
    "\n",
    "# Шаг 3: Создаём Pool для CatBoost\n",
    "train_pool = Pool(data=X_train, label=y_train, cat_features=cat_features)\n",
    "test_pool = Pool(data=X_test, label=y_test, cat_features=cat_features)"
   ]
  },
  {
   "cell_type": "code",
   "execution_count": 85,
   "id": "4498d80f-0449-49e0-b7e5-5aa76303c928",
   "metadata": {},
   "outputs": [
    {
     "data": {
      "text/plain": [
       "<catboost.core.CatBoostClassifier at 0x22054d94190>"
      ]
     },
     "execution_count": 85,
     "metadata": {},
     "output_type": "execute_result"
    }
   ],
   "source": [
    "# Создаём пустую модель и загружаем её\n",
    "model = CatBoostClassifier()\n",
    "model.load_model(os.path.join(path, \"catboost_model.cbm\"))"
   ]
  },
  {
   "cell_type": "code",
   "execution_count": 87,
   "id": "ac4f568b-59c2-4d04-a9ad-85e22613b844",
   "metadata": {},
   "outputs": [
    {
     "name": "stdout",
     "output_type": "stream",
     "text": [
      "0:\ttest: 0.9337559\tbest: 0.9337559 (0)\ttotal: 6.76s\tremaining: 3h 45m 10s\n",
      "100:\ttest: 0.9337789\tbest: 0.9337791 (93)\ttotal: 9m 2s\tremaining: 2h 49m 54s\n",
      "200:\ttest: 0.9337925\tbest: 0.9337927 (195)\ttotal: 18m 51s\tremaining: 2h 48m 44s\n",
      "300:\ttest: 0.9338068\tbest: 0.9338068 (298)\ttotal: 27m 51s\tremaining: 2h 37m 14s\n",
      "400:\ttest: 0.9338201\tbest: 0.9338202 (399)\ttotal: 37m 9s\tremaining: 2h 28m 8s\n",
      "500:\ttest: 0.9338326\tbest: 0.9338332 (493)\ttotal: 46m 39s\tremaining: 2h 19m 35s\n",
      "Stopped by overfitting detector  (50 iterations wait)\n",
      "\n",
      "bestTest = 0.9338336058\n",
      "bestIteration = 510\n",
      "\n",
      "Shrink model to first 511 iterations.\n"
     ]
    },
    {
     "data": {
      "text/plain": [
       "<catboost.core.CatBoostClassifier at 0x22054d94190>"
      ]
     },
     "execution_count": 87,
     "metadata": {},
     "output_type": "execute_result"
    }
   ],
   "source": [
    "# Дообучение модели\n",
    "model.fit(\n",
    "    train_pool,\n",
    "    eval_set=test_pool,\n",
    "    use_best_model=True,\n",
    "    init_model=model\n",
    ")"
   ]
  },
  {
   "cell_type": "code",
   "execution_count": 88,
   "id": "7878aa10-79e5-463f-8668-6cb4273678d1",
   "metadata": {},
   "outputs": [],
   "source": [
    "# Сохранение модели в файл\n",
    "model.save_model(os.path.join(path, \"catboost_model.cbm\"))"
   ]
  },
  {
   "cell_type": "code",
   "execution_count": 89,
   "id": "110c8367-892b-425b-9f55-b86b7f739d50",
   "metadata": {},
   "outputs": [
    {
     "name": "stdout",
     "output_type": "stream",
     "text": [
      "ROC-AUC: 0.9338\n"
     ]
    }
   ],
   "source": [
    "# Шаг 5: Оцениваем модель\n",
    "y_pred = model.predict_proba(test_pool)[:, 1]\n",
    "roc_auc = roc_auc_score(y_test, y_pred)\n",
    "print(f\"ROC-AUC: {roc_auc:.4f}\")"
   ]
  },
  {
   "cell_type": "code",
   "execution_count": 90,
   "id": "700a1b71-bcc4-403e-af35-fa9869c06d4e",
   "metadata": {},
   "outputs": [
    {
     "data": {
      "text/html": [
       "<div>\n",
       "<style scoped>\n",
       "    .dataframe tbody tr th:only-of-type {\n",
       "        vertical-align: middle;\n",
       "    }\n",
       "\n",
       "    .dataframe tbody tr th {\n",
       "        vertical-align: top;\n",
       "    }\n",
       "\n",
       "    .dataframe thead th {\n",
       "        text-align: right;\n",
       "    }\n",
       "</style>\n",
       "<table border=\"1\" class=\"dataframe\">\n",
       "  <thead>\n",
       "    <tr style=\"text-align: right;\">\n",
       "      <th></th>\n",
       "      <th>user_id</th>\n",
       "      <th>adv_campaign_id</th>\n",
       "      <th>platform_id</th>\n",
       "      <th>banner_code</th>\n",
       "      <th>is_main</th>\n",
       "      <th>user_id_mean</th>\n",
       "      <th>adv_campaign_id_mean</th>\n",
       "      <th>adv_creative_id_mean</th>\n",
       "      <th>goal_cost</th>\n",
       "      <th>goal_budget</th>\n",
       "      <th>location_id</th>\n",
       "      <th>logcat_id</th>\n",
       "      <th>camp_len</th>\n",
       "      <th>effect_goal</th>\n",
       "      <th>predicted_prob</th>\n",
       "    </tr>\n",
       "  </thead>\n",
       "  <tbody>\n",
       "    <tr>\n",
       "      <th>0</th>\n",
       "      <td>2714742</td>\n",
       "      <td>3026</td>\n",
       "      <td>2</td>\n",
       "      <td>8</td>\n",
       "      <td>1</td>\n",
       "      <td>0.0</td>\n",
       "      <td>0.008517</td>\n",
       "      <td>0.008517</td>\n",
       "      <td>4.754986</td>\n",
       "      <td>5080</td>\n",
       "      <td>1</td>\n",
       "      <td>65</td>\n",
       "      <td>6</td>\n",
       "      <td>1068</td>\n",
       "      <td>1.119689e-06</td>\n",
       "    </tr>\n",
       "    <tr>\n",
       "      <th>1</th>\n",
       "      <td>2714742</td>\n",
       "      <td>2994</td>\n",
       "      <td>2</td>\n",
       "      <td>8</td>\n",
       "      <td>1</td>\n",
       "      <td>0.0</td>\n",
       "      <td>0.005669</td>\n",
       "      <td>0.005669</td>\n",
       "      <td>7.819801</td>\n",
       "      <td>55768</td>\n",
       "      <td>30</td>\n",
       "      <td>65</td>\n",
       "      <td>14</td>\n",
       "      <td>7131</td>\n",
       "      <td>8.069301e-07</td>\n",
       "    </tr>\n",
       "  </tbody>\n",
       "</table>\n",
       "</div>"
      ],
      "text/plain": [
       "   user_id  adv_campaign_id  platform_id  banner_code  is_main  user_id_mean  \\\n",
       "0  2714742             3026            2            8        1           0.0   \n",
       "1  2714742             2994            2            8        1           0.0   \n",
       "\n",
       "   adv_campaign_id_mean  adv_creative_id_mean  goal_cost  goal_budget  \\\n",
       "0              0.008517              0.008517   4.754986         5080   \n",
       "1              0.005669              0.005669   7.819801        55768   \n",
       "\n",
       "   location_id  logcat_id  camp_len  effect_goal  predicted_prob  \n",
       "0            1         65         6         1068    1.119689e-06  \n",
       "1           30         65        14         7131    8.069301e-07  "
      ]
     },
     "execution_count": 90,
     "metadata": {},
     "output_type": "execute_result"
    }
   ],
   "source": [
    "# Шаг 1: Подготовка тестовых данных\n",
    "columns_test_to_read = ['user_id', 'adv_campaign_id',\n",
    "    'platform_id', 'banner_code', 'is_main', 'location_id', 'logcat_id', \n",
    "    'user_id_mean', 'adv_campaign_id_mean', 'adv_creative_id_mean', \n",
    "    'goal_cost', 'goal_budget', 'camp_len', 'effect_goal'\n",
    "]\n",
    "\n",
    "test = pd.read_csv(path + r'\\test_features.csv', usecols=columns_test_to_read)\n",
    "\n",
    "# Шаг 2: Создание Pool для тестовых данных\n",
    "test_pool = Pool(data=test, cat_features=cat_features)\n",
    "\n",
    "# Шаг 3: Применение модели\n",
    "# Предсказание вероятностей\n",
    "test['predicted_prob'] = model.predict_proba(test_pool)[:, 1]\n",
    "test.head(2)"
   ]
  },
  {
   "cell_type": "code",
   "execution_count": 91,
   "id": "49d53a67-be57-4e6a-a3aa-9ee91dc4a019",
   "metadata": {},
   "outputs": [
    {
     "data": {
      "text/html": [
       "<div>\n",
       "<style scoped>\n",
       "    .dataframe tbody tr th:only-of-type {\n",
       "        vertical-align: middle;\n",
       "    }\n",
       "\n",
       "    .dataframe tbody tr th {\n",
       "        vertical-align: top;\n",
       "    }\n",
       "\n",
       "    .dataframe thead th {\n",
       "        text-align: right;\n",
       "    }\n",
       "</style>\n",
       "<table border=\"1\" class=\"dataframe\">\n",
       "  <thead>\n",
       "    <tr style=\"text-align: right;\">\n",
       "      <th></th>\n",
       "      <th>user_id</th>\n",
       "      <th>adv_campaign_id</th>\n",
       "      <th>predict</th>\n",
       "      <th>base</th>\n",
       "    </tr>\n",
       "  </thead>\n",
       "  <tbody>\n",
       "    <tr>\n",
       "      <th>0</th>\n",
       "      <td>2714742</td>\n",
       "      <td>3026</td>\n",
       "      <td>1.119689e-06</td>\n",
       "      <td>0.0</td>\n",
       "    </tr>\n",
       "    <tr>\n",
       "      <th>1</th>\n",
       "      <td>2714742</td>\n",
       "      <td>2994</td>\n",
       "      <td>8.069301e-07</td>\n",
       "      <td>0.0</td>\n",
       "    </tr>\n",
       "  </tbody>\n",
       "</table>\n",
       "</div>"
      ],
      "text/plain": [
       "   user_id  adv_campaign_id       predict  base\n",
       "0  2714742             3026  1.119689e-06   0.0\n",
       "1  2714742             2994  8.069301e-07   0.0"
      ]
     },
     "execution_count": 91,
     "metadata": {},
     "output_type": "execute_result"
    }
   ],
   "source": [
    "# Шаг 4: Перезапись и сохранение результатов с данными бейзлайна\n",
    "sam = pd.read_csv(path + r'\\sample_submission.csv')\n",
    "sam['predict'] = test['predicted_prob']\n",
    "\n",
    "# Добавим бейзлайновую фичу\n",
    "user_ads_clicks = pd.read_csv(path + r'\\user_ads_clicks.csv')\n",
    "sam = sam.merge(user_ads_clicks, on=[\"user_id\", \"adv_campaign_id\"], how=\"left\")\n",
    "sam[\"base\"] = sam[\"base\"].fillna(0.0)\n",
    "sam.head(2)"
   ]
  },
  {
   "cell_type": "code",
   "execution_count": 92,
   "id": "cf39f321-ba59-4554-bd58-8989d957988a",
   "metadata": {},
   "outputs": [
    {
     "data": {
      "text/html": [
       "<div>\n",
       "<style scoped>\n",
       "    .dataframe tbody tr th:only-of-type {\n",
       "        vertical-align: middle;\n",
       "    }\n",
       "\n",
       "    .dataframe tbody tr th {\n",
       "        vertical-align: top;\n",
       "    }\n",
       "\n",
       "    .dataframe thead th {\n",
       "        text-align: right;\n",
       "    }\n",
       "</style>\n",
       "<table border=\"1\" class=\"dataframe\">\n",
       "  <thead>\n",
       "    <tr style=\"text-align: right;\">\n",
       "      <th></th>\n",
       "      <th>user_id</th>\n",
       "      <th>adv_campaign_id</th>\n",
       "      <th>predict</th>\n",
       "    </tr>\n",
       "  </thead>\n",
       "  <tbody>\n",
       "    <tr>\n",
       "      <th>0</th>\n",
       "      <td>2714742</td>\n",
       "      <td>3026</td>\n",
       "      <td>5.598443e-07</td>\n",
       "    </tr>\n",
       "    <tr>\n",
       "      <th>1</th>\n",
       "      <td>2714742</td>\n",
       "      <td>2994</td>\n",
       "      <td>4.034650e-07</td>\n",
       "    </tr>\n",
       "  </tbody>\n",
       "</table>\n",
       "</div>"
      ],
      "text/plain": [
       "   user_id  adv_campaign_id       predict\n",
       "0  2714742             3026  5.598443e-07\n",
       "1  2714742             2994  4.034650e-07"
      ]
     },
     "execution_count": 92,
     "metadata": {},
     "output_type": "execute_result"
    }
   ],
   "source": [
    "sam['predict'] = (sam['predict'] + sam['base']) / 2\n",
    "sam = sam.drop(columns={'base'})\n",
    "sam.to_csv(path + r'\\sample_submission.csv', index=False)\n",
    "sam.head(2)"
   ]
  },
  {
   "cell_type": "code",
   "execution_count": 97,
   "id": "104b90db-353f-404f-abaf-197ba6fc9793",
   "metadata": {},
   "outputs": [],
   "source": [
    "del user_ads_clicks\n",
    "del sam"
   ]
  },
  {
   "cell_type": "code",
   "execution_count": 98,
   "id": "e55c747f-d26e-44eb-a84e-118e8ddae593",
   "metadata": {},
   "outputs": [
    {
     "ename": "ArrowMemoryError",
     "evalue": "malloc of size 1835856576 failed",
     "output_type": "error",
     "traceback": [
      "\u001b[1;31m---------------------------------------------------------------------------\u001b[0m",
      "\u001b[1;31mArrowMemoryError\u001b[0m                          Traceback (most recent call last)",
      "Cell \u001b[1;32mIn[98], line 10\u001b[0m\n\u001b[0;32m      1\u001b[0m \u001b[38;5;66;03m# Дообучение 2, 15-35% датасета\u001b[39;00m\n\u001b[0;32m      2\u001b[0m \u001b[38;5;66;03m# Читаем и выкидываем строки, на которых обучались, режем и берём 0.2 части датасета для дальнейшего обучения\u001b[39;00m\n\u001b[0;32m      3\u001b[0m \u001b[38;5;66;03m# Шаг 1: Читаем только нужные столбцы для экономии памяти\u001b[39;00m\n\u001b[0;32m      4\u001b[0m columns_to_read \u001b[38;5;241m=\u001b[39m [\n\u001b[0;32m      5\u001b[0m     \u001b[38;5;124m'\u001b[39m\u001b[38;5;124mplatform_id\u001b[39m\u001b[38;5;124m'\u001b[39m, \u001b[38;5;124m'\u001b[39m\u001b[38;5;124mbanner_code\u001b[39m\u001b[38;5;124m'\u001b[39m, \u001b[38;5;124m'\u001b[39m\u001b[38;5;124mis_main\u001b[39m\u001b[38;5;124m'\u001b[39m, \u001b[38;5;124m'\u001b[39m\u001b[38;5;124muser_id_mean\u001b[39m\u001b[38;5;124m'\u001b[39m, \u001b[38;5;124m'\u001b[39m\u001b[38;5;124madv_campaign_id_mean\u001b[39m\u001b[38;5;124m'\u001b[39m, \n\u001b[0;32m      6\u001b[0m     \u001b[38;5;124m'\u001b[39m\u001b[38;5;124madv_creative_id_mean\u001b[39m\u001b[38;5;124m'\u001b[39m, \u001b[38;5;124m'\u001b[39m\u001b[38;5;124mgoal_cost\u001b[39m\u001b[38;5;124m'\u001b[39m, \u001b[38;5;124m'\u001b[39m\u001b[38;5;124mgoal_budget\u001b[39m\u001b[38;5;124m'\u001b[39m, \n\u001b[0;32m      7\u001b[0m     \u001b[38;5;124m'\u001b[39m\u001b[38;5;124mlocation_id\u001b[39m\u001b[38;5;124m'\u001b[39m, \u001b[38;5;124m'\u001b[39m\u001b[38;5;124mlogcat_id\u001b[39m\u001b[38;5;124m'\u001b[39m, \u001b[38;5;124m'\u001b[39m\u001b[38;5;124mcamp_len\u001b[39m\u001b[38;5;124m'\u001b[39m, \u001b[38;5;124m'\u001b[39m\u001b[38;5;124meffect_goal\u001b[39m\u001b[38;5;124m'\u001b[39m, \u001b[38;5;124m'\u001b[39m\u001b[38;5;124mtarget\u001b[39m\u001b[38;5;124m'\u001b[39m\n\u001b[0;32m      8\u001b[0m ]\n\u001b[1;32m---> 10\u001b[0m train \u001b[38;5;241m=\u001b[39m pd\u001b[38;5;241m.\u001b[39mread_parquet(path \u001b[38;5;241m+\u001b[39m \u001b[38;5;124mr\u001b[39m\u001b[38;5;124m'\u001b[39m\u001b[38;5;124m\\\u001b[39m\u001b[38;5;124mtrain_features.parquet\u001b[39m\u001b[38;5;124m'\u001b[39m, columns\u001b[38;5;241m=\u001b[39mcolumns_to_read)\n\u001b[0;32m     11\u001b[0m frac \u001b[38;5;241m=\u001b[39m train\u001b[38;5;241m.\u001b[39msample(frac\u001b[38;5;241m=\u001b[39m\u001b[38;5;241m0.15\u001b[39m, random_state\u001b[38;5;241m=\u001b[39m\u001b[38;5;241m42\u001b[39m)\n\u001b[0;32m     12\u001b[0m train85 \u001b[38;5;241m=\u001b[39m train\u001b[38;5;241m.\u001b[39mdrop(frac\u001b[38;5;241m.\u001b[39mindex)\n",
      "File \u001b[1;32m~\\anaconda3\\Lib\\site-packages\\pandas\\io\\parquet.py:667\u001b[0m, in \u001b[0;36mread_parquet\u001b[1;34m(path, engine, columns, storage_options, use_nullable_dtypes, dtype_backend, filesystem, filters, **kwargs)\u001b[0m\n\u001b[0;32m    664\u001b[0m     use_nullable_dtypes \u001b[38;5;241m=\u001b[39m \u001b[38;5;28;01mFalse\u001b[39;00m\n\u001b[0;32m    665\u001b[0m check_dtype_backend(dtype_backend)\n\u001b[1;32m--> 667\u001b[0m \u001b[38;5;28;01mreturn\u001b[39;00m impl\u001b[38;5;241m.\u001b[39mread(\n\u001b[0;32m    668\u001b[0m     path,\n\u001b[0;32m    669\u001b[0m     columns\u001b[38;5;241m=\u001b[39mcolumns,\n\u001b[0;32m    670\u001b[0m     filters\u001b[38;5;241m=\u001b[39mfilters,\n\u001b[0;32m    671\u001b[0m     storage_options\u001b[38;5;241m=\u001b[39mstorage_options,\n\u001b[0;32m    672\u001b[0m     use_nullable_dtypes\u001b[38;5;241m=\u001b[39muse_nullable_dtypes,\n\u001b[0;32m    673\u001b[0m     dtype_backend\u001b[38;5;241m=\u001b[39mdtype_backend,\n\u001b[0;32m    674\u001b[0m     filesystem\u001b[38;5;241m=\u001b[39mfilesystem,\n\u001b[0;32m    675\u001b[0m     \u001b[38;5;241m*\u001b[39m\u001b[38;5;241m*\u001b[39mkwargs,\n\u001b[0;32m    676\u001b[0m )\n",
      "File \u001b[1;32m~\\anaconda3\\Lib\\site-packages\\pandas\\io\\parquet.py:281\u001b[0m, in \u001b[0;36mPyArrowImpl.read\u001b[1;34m(self, path, columns, filters, use_nullable_dtypes, dtype_backend, storage_options, filesystem, **kwargs)\u001b[0m\n\u001b[0;32m    273\u001b[0m \u001b[38;5;28;01mtry\u001b[39;00m:\n\u001b[0;32m    274\u001b[0m     pa_table \u001b[38;5;241m=\u001b[39m \u001b[38;5;28mself\u001b[39m\u001b[38;5;241m.\u001b[39mapi\u001b[38;5;241m.\u001b[39mparquet\u001b[38;5;241m.\u001b[39mread_table(\n\u001b[0;32m    275\u001b[0m         path_or_handle,\n\u001b[0;32m    276\u001b[0m         columns\u001b[38;5;241m=\u001b[39mcolumns,\n\u001b[1;32m   (...)\u001b[0m\n\u001b[0;32m    279\u001b[0m         \u001b[38;5;241m*\u001b[39m\u001b[38;5;241m*\u001b[39mkwargs,\n\u001b[0;32m    280\u001b[0m     )\n\u001b[1;32m--> 281\u001b[0m     result \u001b[38;5;241m=\u001b[39m pa_table\u001b[38;5;241m.\u001b[39mto_pandas(\u001b[38;5;241m*\u001b[39m\u001b[38;5;241m*\u001b[39mto_pandas_kwargs)\n\u001b[0;32m    283\u001b[0m     \u001b[38;5;28;01mif\u001b[39;00m manager \u001b[38;5;241m==\u001b[39m \u001b[38;5;124m\"\u001b[39m\u001b[38;5;124marray\u001b[39m\u001b[38;5;124m\"\u001b[39m:\n\u001b[0;32m    284\u001b[0m         result \u001b[38;5;241m=\u001b[39m result\u001b[38;5;241m.\u001b[39m_as_manager(\u001b[38;5;124m\"\u001b[39m\u001b[38;5;124marray\u001b[39m\u001b[38;5;124m\"\u001b[39m, copy\u001b[38;5;241m=\u001b[39m\u001b[38;5;28;01mFalse\u001b[39;00m)\n",
      "File \u001b[1;32m~\\anaconda3\\Lib\\site-packages\\pyarrow\\array.pxi:884\u001b[0m, in \u001b[0;36mpyarrow.lib._PandasConvertible.to_pandas\u001b[1;34m()\u001b[0m\n",
      "File \u001b[1;32m~\\anaconda3\\Lib\\site-packages\\pyarrow\\table.pxi:4192\u001b[0m, in \u001b[0;36mpyarrow.lib.Table._to_pandas\u001b[1;34m()\u001b[0m\n",
      "File \u001b[1;32m~\\anaconda3\\Lib\\site-packages\\pyarrow\\pandas_compat.py:776\u001b[0m, in \u001b[0;36mtable_to_dataframe\u001b[1;34m(options, table, categories, ignore_metadata, types_mapper)\u001b[0m\n\u001b[0;32m    774\u001b[0m _check_data_column_metadata_consistency(all_columns)\n\u001b[0;32m    775\u001b[0m columns \u001b[38;5;241m=\u001b[39m _deserialize_column_index(table, all_columns, column_indexes)\n\u001b[1;32m--> 776\u001b[0m blocks \u001b[38;5;241m=\u001b[39m _table_to_blocks(options, table, categories, ext_columns_dtypes)\n\u001b[0;32m    778\u001b[0m axes \u001b[38;5;241m=\u001b[39m [columns, index]\n\u001b[0;32m    779\u001b[0m mgr \u001b[38;5;241m=\u001b[39m BlockManager(blocks, axes)\n",
      "File \u001b[1;32m~\\anaconda3\\Lib\\site-packages\\pyarrow\\pandas_compat.py:1129\u001b[0m, in \u001b[0;36m_table_to_blocks\u001b[1;34m(options, block_table, categories, extension_columns)\u001b[0m\n\u001b[0;32m   1124\u001b[0m \u001b[38;5;28;01mdef\u001b[39;00m \u001b[38;5;21m_table_to_blocks\u001b[39m(options, block_table, categories, extension_columns):\n\u001b[0;32m   1125\u001b[0m     \u001b[38;5;66;03m# Part of table_to_blockmanager\u001b[39;00m\n\u001b[0;32m   1126\u001b[0m \n\u001b[0;32m   1127\u001b[0m     \u001b[38;5;66;03m# Convert an arrow table to Block from the internal pandas API\u001b[39;00m\n\u001b[0;32m   1128\u001b[0m     columns \u001b[38;5;241m=\u001b[39m block_table\u001b[38;5;241m.\u001b[39mcolumn_names\n\u001b[1;32m-> 1129\u001b[0m     result \u001b[38;5;241m=\u001b[39m pa\u001b[38;5;241m.\u001b[39mlib\u001b[38;5;241m.\u001b[39mtable_to_blocks(options, block_table, categories,\n\u001b[0;32m   1130\u001b[0m                                     \u001b[38;5;28mlist\u001b[39m(extension_columns\u001b[38;5;241m.\u001b[39mkeys()))\n\u001b[0;32m   1131\u001b[0m     \u001b[38;5;28;01mreturn\u001b[39;00m [_reconstruct_block(item, columns, extension_columns)\n\u001b[0;32m   1132\u001b[0m             \u001b[38;5;28;01mfor\u001b[39;00m item \u001b[38;5;129;01min\u001b[39;00m result]\n",
      "File \u001b[1;32m~\\anaconda3\\Lib\\site-packages\\pyarrow\\table.pxi:3115\u001b[0m, in \u001b[0;36mpyarrow.lib.table_to_blocks\u001b[1;34m()\u001b[0m\n",
      "File \u001b[1;32m~\\anaconda3\\Lib\\site-packages\\pyarrow\\error.pxi:91\u001b[0m, in \u001b[0;36mpyarrow.lib.check_status\u001b[1;34m()\u001b[0m\n",
      "\u001b[1;31mArrowMemoryError\u001b[0m: malloc of size 1835856576 failed"
     ]
    }
   ],
   "source": [
    "# Дообучение 2, 15-35% датасета\n",
    "# Читаем и выкидываем строки, на которых обучались, режем и берём 0.2 части датасета для дальнейшего обучения\n",
    "# Шаг 1: Читаем только нужные столбцы для экономии памяти\n",
    "columns_to_read = [\n",
    "    'platform_id', 'banner_code', 'is_main', 'user_id_mean', 'adv_campaign_id_mean', \n",
    "    'adv_creative_id_mean', 'goal_cost', 'goal_budget', \n",
    "    'location_id', 'logcat_id', 'camp_len', 'effect_goal', 'target'\n",
    "]\n",
    "\n",
    "train = pd.read_parquet(path + r'\\train_features.parquet', columns=columns_to_read)\n",
    "frac = train.sample(frac=0.15, random_state=42)\n",
    "train85 = train.drop(frac.index)\n",
    "del frac\n",
    "print(train85.shape)\n",
    "\n",
    "chunk_size = int(n_rows * 0.20)  # Размер одной части (25% строк)\n",
    "train85_15_35 = train85.iloc[chunk_size:chunk_size*2]  # Взять вторые 25% строк\n",
    "\n",
    "del train\n",
    "print(train85_15_35.info())\n",
    "print(train85_15_35.head())"
   ]
  },
  {
   "cell_type": "code",
   "execution_count": 94,
   "id": "bfd45bc2-bd16-49e4-b5b3-5f56615da635",
   "metadata": {},
   "outputs": [
    {
     "name": "stdout",
     "output_type": "stream",
     "text": [
      "0:\ttest: 0.9348153\tbest: 0.9348153 (0)\ttotal: 1.03s\tremaining: 34m 23s\n",
      "Stopped by overfitting detector  (50 iterations wait)\n",
      "\n",
      "bestTest = 0.9348153484\n",
      "bestIteration = 0\n",
      "\n",
      "Shrink model to first 1 iterations.\n"
     ]
    },
    {
     "data": {
      "text/plain": [
       "<catboost.core.CatBoostClassifier at 0x2201ca02f90>"
      ]
     },
     "execution_count": 94,
     "metadata": {},
     "output_type": "execute_result"
    }
   ],
   "source": [
    "# Шаг 2: Разделяем данные\n",
    "y = train85_15_40[\"target\"]\n",
    "X = train85_15_40.drop(columns={\"target\"})\n",
    "X_train, X_test, y_train, y_test = train_test_split(X, y, test_size=0.2, random_state=42)\n",
    "\n",
    "del train85_15_40\n",
    "\n",
    "cat_features = ['platform_id', 'banner_code', 'is_main', 'location_id', 'logcat_id']\n",
    "\n",
    "# Шаг 3: Создаём Pool для CatBoost\n",
    "train_pool = Pool(data=X_train, label=y_train, cat_features=cat_features)\n",
    "test_pool = Pool(data=X_test, label=y_test, cat_features=cat_features)\n",
    "\n",
    "# Создаём пустую модель и загружаем её\n",
    "model = CatBoostClassifier()\n",
    "model.load_model(os.path.join(path, \"catboost_model.cbm\"))\n",
    "\n",
    "# Дообучение модели\n",
    "model.fit(\n",
    "    train_pool,\n",
    "    eval_set=test_pool,\n",
    "    use_best_model=True,\n",
    "    init_model=model\n",
    ")"
   ]
  },
  {
   "cell_type": "code",
   "execution_count": null,
   "id": "a818827b-4ed3-401e-a1aa-dd09f40d8c90",
   "metadata": {},
   "outputs": [],
   "source": []
  }
 ],
 "metadata": {
  "kernelspec": {
   "display_name": "Python 3 (ipykernel)",
   "language": "python",
   "name": "python3"
  },
  "language_info": {
   "codemirror_mode": {
    "name": "ipython",
    "version": 3
   },
   "file_extension": ".py",
   "mimetype": "text/x-python",
   "name": "python",
   "nbconvert_exporter": "python",
   "pygments_lexer": "ipython3",
   "version": "3.11.5"
  }
 },
 "nbformat": 4,
 "nbformat_minor": 5
}
